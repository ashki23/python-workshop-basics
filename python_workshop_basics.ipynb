{
  "nbformat": 4,
  "nbformat_minor": 0,
  "metadata": {
    "colab": {
      "provenance": []
    },
    "kernelspec": {
      "name": "python3",
      "display_name": "Python 3"
    },
    "language_info": {
      "name": "python"
    }
  },
  "cells": [
    {
      "cell_type": "markdown",
      "source": [
        "# Python Basics: A Beginner's Guide to Programming"
      ],
      "metadata": {
        "id": "w4S3wYIv50ix"
      }
    },
    {
      "cell_type": "markdown",
      "source": [
        "Some changes in the Colab settings:\n",
        "\n",
        "- Site > Theme > dark (**optional**)\n",
        "- Editor > Indentation width in spaces > 4\n",
        "- Editor > Vertical ruler column > 160\n",
        "- Editor > Check \"Show indentation guides\"\n",
        "- Run the following code to show all outputs:\n"
      ],
      "metadata": {
        "id": "oRQez1fmSHby"
      }
    },
    {
      "cell_type": "code",
      "source": [
        "# Modify Jupyter settings to show all outputs\n",
        "from IPython.core.interactiveshell import InteractiveShell\n",
        "InteractiveShell.ast_node_interactivity = \"all\"  # \"last_expr\""
      ],
      "metadata": {
        "id": "yycUhZj7Kfpw"
      },
      "execution_count": null,
      "outputs": []
    },
    {
      "cell_type": "markdown",
      "source": [
        "# 1. Variables\n",
        "\n",
        "The equal sign (`=`) is used to assign a value (object or data) to a variable."
      ],
      "metadata": {
        "id": "NJu-g-Utxzn3"
      }
    },
    {
      "cell_type": "code",
      "source": [
        "spam = 1  # and this is a comment\n",
        "text = \"# This is not a comment because it's inside quotes.\"\n",
        "\n",
        "# We can reuse variables!\n",
        "spam = 'one'\n",
        "\n",
        "# Variables are case-sensetive\n",
        "Spam = \"two\"\n",
        "\n",
        "# The built-in function \"print()\" prints an object's value:\n",
        "print(spam)\n",
        "# 'one'\n",
        "\n",
        "print(Spam)\n",
        "# 'two'\n",
        "\n",
        "# Space, dash and other funny characters are not allowed!\n",
        "# sp-am-1 = 'ohhh'\n",
        "# sp am 2 = 'nooo'\n",
        "# 3_sp_am = 'NO!'\n",
        "sp_am_3 = 'yayy!'\n"
      ],
      "metadata": {
        "id": "jUDOL765yFDA",
        "collapsed": true
      },
      "execution_count": null,
      "outputs": []
    },
    {
      "cell_type": "markdown",
      "source": [
        "🚀 **Note**: We use `#` to write comments between codes, and sigle `'` or double `\"` quotes to store texts (strings).\n",
        "\n",
        "🔥 **Note**: Python has a set of built-in functions for performing specific tasks. All Python functions use parentheses to receive the required arguments for execution, following the format `function_name(args)`.\n"
      ],
      "metadata": {
        "id": "O5Y6sEudyyTz"
      }
    },
    {
      "cell_type": "markdown",
      "source": [
        "# 2. Data Types\n"
      ],
      "metadata": {
        "id": "5ROyQW1QEKzV"
      }
    },
    {
      "cell_type": "markdown",
      "source": [
        "\n",
        "## 2.1 Numbers"
      ],
      "metadata": {
        "id": "oTAA6hp08Lmv"
      }
    },
    {
      "cell_type": "code",
      "source": [
        "# Using Python as a Calculator!\n",
        "2 + 2\n",
        "# 4\n",
        "\n",
        "2 * 2\n",
        "# 4\n",
        "\n",
        "17 / 3 # classic division returns a float\n",
        "# 5.666666666666667\n",
        "\n",
        "17 // 3  # floor division discards the fractional part\n",
        "# 5\n",
        "\n",
        "17 % 3  # the % operator returns the remainder of the division\n",
        "# 2\n",
        "\n",
        "5 ** 2  # 5 squared\n",
        "# 25\n",
        "\n",
        "2 ** 7  # 2 to the power of 7\n",
        "# 128\n"
      ],
      "metadata": {
        "id": "vsURRPNJyx24",
        "collapsed": true
      },
      "execution_count": null,
      "outputs": []
    },
    {
      "cell_type": "code",
      "source": [
        "## Create a variable and assign a number\n",
        "width = 20\n",
        "height = 30 * 2\n",
        "\n",
        "area = width * height\n",
        "area\n",
        "# 1200\n",
        "\n",
        "area / 7\n",
        "# 171.428...\n"
      ],
      "metadata": {
        "id": "GrHRjpe2Ud9C",
        "collapsed": true
      },
      "execution_count": null,
      "outputs": []
    },
    {
      "cell_type": "code",
      "source": [
        "# Number types\n",
        "# The built-in function \"type()\" returns the type of an object:\n",
        "type(area)\n",
        "# int\n",
        "\n",
        "type(area/7)\n",
        "# float\n",
        "\n",
        "# The built-in functions \"int()\" and \"floot()\" change the number types:\n",
        "int(3.3)\n",
        "# 3\n",
        "\n",
        "float(3)\n",
        "# 3.0\n",
        "\n",
        "# The built-in function \"round()\" rounds a number to a given precision in decimal digits:\n",
        "round(3.14159265, 2)\n",
        "# 3.14\n",
        "\n",
        "round(3.14159265)\n",
        "# 3\n",
        "\n",
        "# The built-in function \"abs()\" returns the absolute value of a number:\n",
        "abs(-3.4)\n",
        "# 3.4\n"
      ],
      "metadata": {
        "id": "cwL-VMsLVKGn",
        "collapsed": true
      },
      "execution_count": null,
      "outputs": []
    },
    {
      "cell_type": "markdown",
      "source": [
        "In addition to `int` and `float`, Python supports other types of numbers, such as \"Decimal\" (for more precise calculations than float) and \"Fraction\" (eg. `3/4 + 7/8 = 13/8`). Python also has built-in support for complex numbers, and uses the `j` or `J` suffix to indicate the imaginary part (e.g. `3 + 5j`).\n",
        "\n",
        "🚀 **Note**: Numbers are **immutable** (not modifiable), **non-subscriptable** (non-sliceable), and **cannot be concatenated** (glued together). Therefore, there is no method for numbers!\n"
      ],
      "metadata": {
        "id": "AewoET0oWad7"
      }
    },
    {
      "cell_type": "markdown",
      "source": [
        "---\n",
        "## 📚 **Workbook practice**\n",
        "\n",
        "- Create some variables with text objects, add some comments, and print the variables.\n",
        "\n",
        "- Create some variables with some numbers. Do some simple math with the variables: try classic divison, floor division, and find the remainder of the division.\n",
        "---"
      ],
      "metadata": {
        "id": "-bQFxne4WE1V"
      }
    },
    {
      "cell_type": "markdown",
      "source": [
        "## 2.2 Text\n",
        "\n",
        "Python can manipulate text (represented by type str, so-called \"strings\") as well as numbers. This includes characters `\"!\"`, words `\"rabbit\"`, names `\"Paris\"`, sentences `\"Got your back.\"`, etc. `\"Yay! :)\"`.\n",
        "\n",
        "They can be enclosed in single quotes (`'...'`) or double quotes (`\"...\"`) with the same result."
      ],
      "metadata": {
        "id": "R1cs0U8hYM-K"
      }
    },
    {
      "cell_type": "code",
      "source": [
        "# Single quotes\n",
        "'spam eggs'\n",
        "\n",
        "# Double quotes\n",
        "\"Paris rabbit got your back :)! Yay!\"\n",
        "\n",
        "# You use this option to pass single or double quotes as text!\n",
        "\"It doesn't break!\"\n"
      ],
      "metadata": {
        "id": "KoANIfoAWaHZ",
        "collapsed": true
      },
      "execution_count": null,
      "outputs": []
    },
    {
      "cell_type": "code",
      "source": [
        "# String literals can span multiple lines.\n",
        "# One way is using triple-quotes: \"\"\"...\"\"\" or '''...'''.\n",
        "print('''This is line one\n",
        "and two\n",
        "and more\n",
        "''')\n"
      ],
      "metadata": {
        "id": "hvFsG9y1ZBlq",
        "collapsed": true
      },
      "execution_count": null,
      "outputs": []
    },
    {
      "cell_type": "code",
      "source": [
        "## Create a variable and assign a text (string)\n",
        "p = 'Py'\n",
        "c = 'Coding'\n",
        "p\n",
        "c\n",
        "\n",
        "## Text type\n",
        "type(p)\n",
        "# str\n",
        "\n",
        "# Membership testing\n",
        "'cod' in c\n",
        "# False\n",
        "\n",
        "'din' in c\n",
        "# True\n",
        "\n",
        "# The built-in function \"str()\" returns the string object of an object:\n",
        "str(3.14)\n",
        "# '3.14'\n"
      ],
      "metadata": {
        "id": "y5qrUyg9ZHJo",
        "collapsed": true
      },
      "execution_count": null,
      "outputs": []
    },
    {
      "cell_type": "markdown",
      "source": [
        "🚀 **Note**: Strings are **immutable** (not modifiable), **subscriptable** (sliceable), and **can be concatenated** (glued together). Therefore, there are many predefined methods for strings!"
      ],
      "metadata": {
        "id": "hfQtT4uHZlaE"
      }
    },
    {
      "cell_type": "markdown",
      "source": [
        "**Concatenatable:** If an object is concatenatable, we can combine multiple objects of the same type. For example:"
      ],
      "metadata": {
        "id": "F7lS7aASgsza"
      }
    },
    {
      "cell_type": "code",
      "source": [
        "# Strings can be concatenated\n",
        "\"12\" + \"34\"\n",
        "# '1234'\n",
        "\n",
        "p + 'thon'\n",
        "# 'Python'\n",
        "\n",
        "p * 2\n",
        "# 'PyPy'\n",
        "\n",
        "p + ' ' + c\n",
        "# 'Py Coding'\n",
        "\n",
        "p = p + 'thon' # the short form is: p += 'thon'\n",
        "p\n",
        "#'Python'\n"
      ],
      "metadata": {
        "id": "PHYrlTCwa5rm",
        "collapsed": true
      },
      "execution_count": null,
      "outputs": []
    },
    {
      "cell_type": "markdown",
      "source": [
        "**Subscriptable (sliceable or indexable):** If an object is subscriptable, it can be sliced into its smallest components. For text, the smallest components are individual characters. For example:"
      ],
      "metadata": {
        "id": "ZE560ucPgJKM"
      }
    },
    {
      "cell_type": "code",
      "source": [
        "# Strings are indexable\n",
        "p = \"Python\"\n",
        "\n",
        "p[0] # [index]\n",
        "# 'P'\n",
        "\n",
        "p[-1]\n",
        "# 'n'\n",
        "\n",
        "p[0:2] # [from:to]\n",
        "# 'Py'\n",
        "\n",
        "p[:2]\n",
        "# 'Py'\n",
        "\n",
        "p[2:]\n",
        "# 'thon'\n",
        "\n",
        "p[::2] # [from:to:step], default step is 1\n",
        "# 'Pto'\n"
      ],
      "metadata": {
        "id": "lKsu8_ifdo46",
        "collapsed": true
      },
      "execution_count": null,
      "outputs": []
    },
    {
      "cell_type": "markdown",
      "source": [
        "🚀 **Note**: Think of 0 as the beginning. Then, 1 is the first position after the beginning, 2 is the second, and so on. Similarly, -1 represents the end, -2 is the second-to-last, and so on.\n",
        "\n",
        "🚀 **Note**: In `[from:to]` indexing, Python includes the `from` index but excludes the `to` index, returning all elements up to but not including `to`."
      ],
      "metadata": {
        "id": "NSLJ7ebxjADG"
      }
    },
    {
      "cell_type": "code",
      "source": [
        "#  +---+---+---+---+---+---+\n",
        "#  | P | y | t | h | o | n |\n",
        "#  +---+---+---+---+---+---+\n",
        "#    0   1   2   3   4   5\n",
        "#   -6  -5  -4  -3  -2  -1\n",
        "\n",
        "# The built-in function \"len()\" returns the length of a string:\n",
        "len(p)\n"
      ],
      "metadata": {
        "id": "iZAbm8U9i-3-",
        "collapsed": true
      },
      "execution_count": null,
      "outputs": []
    },
    {
      "cell_type": "markdown",
      "source": [
        "---\n",
        "## 📚 **Workbook practice**\n",
        "\n",
        "Run the following codes line by line. What do you notice?\n",
        "\n",
        "```python\n",
        "p = \"Python\"\n",
        "c = \"Coding\"\n",
        "\n",
        "# 1\n",
        "p[6]\n",
        "p[6:]\n",
        "\n",
        "# 2\n",
        "p[::-1]\n",
        "\n",
        "# 3\n",
        "p += c\n",
        "p # ???\n",
        "\n",
        "# 4\n",
        "p = \"Mython\"\n",
        "p[0] = \"P\"\n",
        "p # ???\n",
        "```\n",
        "---"
      ],
      "metadata": {
        "id": "a081k7k1mfB3"
      }
    },
    {
      "cell_type": "markdown",
      "source": [
        "🔥 Strings have many built-in methods. To use methods, add a `.` to the variable (or the object itself) and call the method. For instance:"
      ],
      "metadata": {
        "id": "-_oFb7Y6pVdS"
      }
    },
    {
      "cell_type": "code",
      "source": [
        "# String methods\n",
        "p = \"python\"\n",
        "p.capitalize()\n",
        "p.upper()\n",
        "p.lower()\n",
        "p.index('h')\n",
        "p.find('h')\n",
        "','.join(p)\n",
        "p.split('t')\n",
        "p.replace('P', 'M')\n",
        "p.count('P')\n",
        "p.center(20, '-')\n",
        "\"   Python   \".strip()\n"
      ],
      "metadata": {
        "id": "qbyF9ZkNq5Dr",
        "collapsed": true
      },
      "execution_count": null,
      "outputs": []
    },
    {
      "cell_type": "markdown",
      "source": [
        "## 2.3 List\n",
        "Python knows a number of compound data types, used to group together other values. The most versatile is the \"list\", which can be written as a list of comma-separated values (**items**) between square brackets.\n",
        "\n",
        "Lists might contain items of different types, but usually the items all have the same type (**homogeneous**)."
      ],
      "metadata": {
        "id": "wo2MeIZXr1Po"
      }
    },
    {
      "cell_type": "code",
      "source": [
        "squares = [1, 4, 9, 16, 25]\n",
        "squares\n",
        "# [1, 4, 9, 16, 25]\n",
        "\n",
        "type(squares)\n",
        "# list\n",
        "\n",
        "empty = []\n",
        "empty\n",
        "\n",
        "# Membership testing\n",
        "4 in squares\n",
        "# True\n"
      ],
      "metadata": {
        "id": "z9M6_tKDr07e",
        "collapsed": true
      },
      "execution_count": null,
      "outputs": []
    },
    {
      "cell_type": "markdown",
      "source": [
        "🚀 **Note**: List are **mutable** (modifiable), **subscriptable** (sliceable or indexable), and **can be concatenated** (glued together). Therefore, there are many predefined methods for Lists."
      ],
      "metadata": {
        "id": "4KdPqIp2skFF"
      }
    },
    {
      "cell_type": "code",
      "source": [
        "# Lists are indexable\n",
        "squares\n",
        "# [1, 4, 9, 16, 25]\n",
        "\n",
        "squares[1]\n",
        "# 4\n",
        "\n",
        "squares[-1]\n",
        "# 25\n",
        "\n",
        "squares[2:]\n",
        "# [9, 16, 25]\n"
      ],
      "metadata": {
        "id": "7cnCMeX1s9Pk",
        "collapsed": true
      },
      "execution_count": null,
      "outputs": []
    },
    {
      "cell_type": "code",
      "source": [
        "# Lists can be concatenated\n",
        "squares + [36, 49, 64, 81, 100]\n",
        "# [1, 4, 9, 16, 25, 36, 49, 64, 81, 100]\n",
        "\n",
        "squares + ['one', 'four', '9', 100, True]\n",
        "# [1, 4, 9, 16, 25, 'one', 'four', '9', 100, True]\n",
        "\n",
        "squares * 2\n",
        "# [1, 4, 9, 16, 25, 1, 4, 9, 16, 25]\n"
      ],
      "metadata": {
        "id": "pXzVDAO6t-mz",
        "collapsed": true
      },
      "execution_count": null,
      "outputs": []
    },
    {
      "cell_type": "code",
      "source": [
        "# It is possible to nest lists (create lists containing other lists), for example:\n",
        "a = ['a', 'b', 'c']\n",
        "n = [1, 2, 3]\n",
        "x = [a, n]\n",
        "x\n",
        "# [['a', 'b', 'c'], [1, 2, 3]]\n",
        "\n",
        "x[0]\n",
        "# ['a', 'b', 'c']\n",
        "\n",
        "x[0][1]\n",
        "# 'b'\n"
      ],
      "metadata": {
        "id": "d27hUxe7u63L",
        "collapsed": true
      },
      "execution_count": null,
      "outputs": []
    },
    {
      "cell_type": "markdown",
      "source": [
        "**Mutable (modifiable)**: If an object is mutable, it can be modified in place without creating a new object."
      ],
      "metadata": {
        "id": "o178Hb9lwrj-"
      }
    },
    {
      "cell_type": "code",
      "source": [
        "# Lists are mutable (modifiable)\n",
        "cubes = [1, 8, 27, 65, 125]\n",
        "\n",
        "# The built-in function \"id()\" returns the id of an object:\n",
        "id(cubes)\n",
        "\n",
        "cubes[3] = 64\n",
        "cubes\n",
        "# [1, 8, 27, 64, 125]\n",
        "\n",
        "id(cubes)\n"
      ],
      "metadata": {
        "id": "o-iFmV0swq-L",
        "collapsed": true
      },
      "execution_count": null,
      "outputs": []
    },
    {
      "cell_type": "code",
      "source": [
        "# List methods\n",
        "cubes.append(216)\n",
        "cubes\n",
        "cubes.index(216)\n",
        "cubes.reverse()\n",
        "cubes\n",
        "cubes.sort()\n",
        "cubes\n",
        "cubes.remove(216)\n",
        "cubes\n"
      ],
      "metadata": {
        "id": "zffB3XNl12LD",
        "collapsed": true
      },
      "execution_count": null,
      "outputs": []
    },
    {
      "cell_type": "code",
      "source": [
        "# The built-in functions \"min()\" and \"max()\" return the smallest and largest item of an iterable:\n",
        "min(cubes)\n",
        "# 1\n",
        "\n",
        "max(cubes)\n",
        "# 125\n",
        "\n",
        "min('python')\n",
        "# 'h'\n",
        "\n",
        "# The built-in function \"sum()\" returns the sum of iterable of numbers:\n",
        "sum(cubes)\n",
        "# 225\n"
      ],
      "metadata": {
        "id": "-LXN0NZ6qkn4",
        "collapsed": true
      },
      "execution_count": null,
      "outputs": []
    },
    {
      "cell_type": "markdown",
      "source": [
        "## 2.4 Other types\n",
        "\n",
        "Python has other data types including:  \n",
        "- Bool: `True`, `False`\n",
        "- NoneType: `None`\n",
        "- Data Structures: tuple, set, and dictinary\n",
        "\n"
      ],
      "metadata": {
        "id": "xQM8KAMVy46e"
      }
    },
    {
      "cell_type": "code",
      "source": [
        "a = True\n",
        "type(a)\n",
        "\n",
        "n = None\n",
        "type(n)\n",
        "\n",
        "# c = false\n",
        "# type(c)\n",
        "# ???\n"
      ],
      "metadata": {
        "id": "V4BYjIYgsH6A",
        "collapsed": true
      },
      "execution_count": null,
      "outputs": []
    },
    {
      "cell_type": "markdown",
      "source": [
        "---\n",
        "## 📚 **Workbook practice**\n",
        "\n",
        "Run the following codes line by line. What do you notice?"
      ],
      "metadata": {
        "id": "lSvSLEUzsIYF"
      }
    },
    {
      "cell_type": "code",
      "source": [
        "rgb = [\"R\", \"G\", \"B\"]\n",
        "rgb_copy = rgb  # a copy of rgb list!\n",
        "rgb_copy.append(\"A\")\n",
        "rgb_copy\n",
        "# ???\n",
        "\n",
        "rgb\n",
        "# ???\n",
        "\n",
        "id(rgb) == id(rgb_copy) # they reference the same object\n",
        "# ???\n",
        "\n",
        "rgb = [\"R\", \"G\", \"B\"]\n",
        "correct_rgb_copy = rgb[:]\n",
        "correct_rgb_copy.append(\"A\")\n",
        "correct_rgb_copy\n",
        "# ???\n",
        "\n",
        "rgb\n",
        "# ???\n",
        "\n",
        "id(rgb) == id(correct_rgb_copy)\n",
        "# ???\n"
      ],
      "metadata": {
        "id": "o3v-ZoI8zAHR",
        "collapsed": true
      },
      "execution_count": null,
      "outputs": []
    },
    {
      "cell_type": "markdown",
      "source": [
        "----\n",
        "# ☕ - Break (10 Min)\n",
        "----"
      ],
      "metadata": {
        "id": "Ni7Kgw6aUzW0"
      }
    },
    {
      "cell_type": "markdown",
      "source": [
        "# 3. Control Flow Tools\n",
        "\n"
      ],
      "metadata": {
        "id": "SbD9jgOP3cOr"
      }
    },
    {
      "cell_type": "markdown",
      "source": [
        "## 3.1 `if` statement"
      ],
      "metadata": {
        "id": "7s7IdMww74lT"
      }
    },
    {
      "cell_type": "code",
      "source": [
        "x = int(input(\"Please enter an integer: \"))\n",
        "if x < 0:\n",
        "    x = 0\n",
        "    print('Negative changed to zero')\n",
        "elif x == 0:\n",
        "    print('Zero')\n",
        "elif x == 1:\n",
        "    print('Single')\n",
        "else:\n",
        "    print('More')\n"
      ],
      "metadata": {
        "id": "ZIhCO6116XF5",
        "collapsed": true
      },
      "execution_count": null,
      "outputs": []
    },
    {
      "cell_type": "markdown",
      "source": [
        "`if` statement syntax (the indentations are required):\n",
        "\n",
        "```\n",
        "if condition True (then):\n",
        "    do this\n",
        "    and that\n",
        "elif condition True:\n",
        "    do this\n",
        "    and that\n",
        "    and this\n",
        "else\n",
        "    do this\n",
        "```\n",
        "\n",
        "There can be zero or more `elif` parts, and the `else` part is optional. The keyword `elif` is short for \"else if\".\n",
        "\n",
        "🚀🔥 **Note:** Since the equal sign (`=`) is reserved for assigning variables, Python uses double equal signs (`==`) to compare the equality of two values. Other comparison operators include: not equal (`!=`), less than (`<`), less than or equal to (`<=`), greater than (`>`), and greater than or equal to (`>=`).\n",
        "\n",
        "## 3.2 `for` statement\n",
        "Python's `for` statement iterates over the items of any sequence (a list or a string), in the order that they appear in the sequence. For example:"
      ],
      "metadata": {
        "id": "ZPiblZDD73wT"
      }
    },
    {
      "cell_type": "code",
      "source": [
        "# Measure some strings:\n",
        "words = ['cat', 'window', 'defenestrate']\n",
        "for w in words:\n",
        "    print(w, len(w))\n",
        "\n",
        "# w is a temporary variable that assign to each item in the sequence.\n",
        "# w in words means:\n",
        "#   iteration 1: w = 'cat'\n",
        "#   iteration 2: w = 'window'\n",
        "#   iteration 3: w = 'defenestrate'\n"
      ],
      "metadata": {
        "id": "QeFivvOt-ekC",
        "collapsed": true
      },
      "execution_count": null,
      "outputs": []
    },
    {
      "cell_type": "markdown",
      "source": [
        "`for` statement syntax (the indentations are required):\n",
        "\n",
        "```\n",
        "for temp_variable in sequence:\n",
        "    do this\n",
        "    and that\n",
        "```\n"
      ],
      "metadata": {
        "id": "eUvddl_xAepU"
      }
    },
    {
      "cell_type": "code",
      "source": [
        "# Measure some strings if the string length is less than 10:\n",
        "words = ['cat', 'window', 'defenestrate']\n",
        "for w in words:\n",
        "    if len(w) < 10:\n",
        "        print(w, len(w))\n"
      ],
      "metadata": {
        "id": "2oDFAc9GCVmP",
        "collapsed": true
      },
      "execution_count": null,
      "outputs": []
    },
    {
      "cell_type": "markdown",
      "source": [
        "If you do need to iterate over a sequence of numbers, the built-in function `range()` comes in handy. It generates arithmetic progressions:"
      ],
      "metadata": {
        "id": "DieslXbNFFWx"
      }
    },
    {
      "cell_type": "code",
      "source": [
        "for i in range(5):\n",
        "    print(i)\n"
      ],
      "metadata": {
        "id": "CPpDONaMFaey",
        "collapsed": true
      },
      "execution_count": null,
      "outputs": []
    },
    {
      "cell_type": "code",
      "source": [
        "list(range(5)) # range from 0 to 5 (incuding \"from\" but not \"to\")\n",
        "# [0, 1, 2, 3, 4]\n",
        "\n",
        "list(range(1, 5)) # range from 1 to 5\n",
        "# [1, 2, 3, 4]\n",
        "\n",
        "list(range(1, 10, 3)) # range from 1 to 10 with step 3\n",
        "# [1, 4, 7]\n"
      ],
      "metadata": {
        "id": "UmUHK859FwNC",
        "collapsed": true
      },
      "execution_count": null,
      "outputs": []
    },
    {
      "cell_type": "code",
      "source": [
        "# Using both \"range()\" and \"len()\" functions\n",
        "a = ['Mary', 'had', 'a', 'little', 'lamb']\n",
        "for i in range(len(a)):\n",
        "    print(i, a[i])\n"
      ],
      "metadata": {
        "id": "aIU2BaVqGhFu",
        "collapsed": true
      },
      "execution_count": null,
      "outputs": []
    },
    {
      "cell_type": "markdown",
      "source": [
        "---\n",
        "## 📚 **Workbook practice**\n",
        "\n",
        "#### **Task:**  \n",
        "Write a Python program that checks how many numbers in a given list are positive.  \n",
        "\n",
        "#### **Instructions:**  \n",
        "1. Define a list of numbers (both positive and negative).  \n",
        "2. Use a `for` loop to iterate through the list.  \n",
        "3. Use an `if` statement to check if a number is greater than zero.  \n",
        "4. Count and print the number of positive values.  \n",
        "\n",
        "\n",
        "#### **Expected Output:**  \n",
        "```python\n",
        "# Sample list\n",
        "numbers = [-3, 5, -1, 7, 0, -8, 10]\n",
        "\n",
        "# Output\n",
        "Count of positive numbers: 3\n",
        "```\n",
        "---\n"
      ],
      "metadata": {
        "id": "0IsoPksZWMgT"
      }
    },
    {
      "cell_type": "markdown",
      "source": [
        "## 3.3 `while` statement\n",
        "The `while` loop executes as long as the condition remains true."
      ],
      "metadata": {
        "id": "77mwTB0VKLTb"
      }
    },
    {
      "cell_type": "code",
      "source": [
        "# Sum of two elements defines the next\n",
        "a, b = 0, 1\n",
        "while a < 10:\n",
        "    print(a)\n",
        "    a, b = b, a+b\n"
      ],
      "metadata": {
        "id": "IG8HoyipKxD_",
        "collapsed": true
      },
      "execution_count": null,
      "outputs": []
    },
    {
      "cell_type": "markdown",
      "source": [
        "## 3.4 `break` and `continue` statements\n",
        "\n",
        "The `break` statement breaks out of the innermost enclosing for or while loop:"
      ],
      "metadata": {
        "id": "pVGAPZv0dhSE"
      }
    },
    {
      "cell_type": "code",
      "source": [
        "# Finding the first even number in a list\n",
        "for n in range(3, 10):\n",
        "    if n % 2 == 0:\n",
        "        print(n, \"is even\")\n",
        "        break\n",
        "    else:\n",
        "        print(n, \"is odd\")\n"
      ],
      "metadata": {
        "id": "ybON-FAadguY",
        "collapsed": true
      },
      "execution_count": null,
      "outputs": []
    },
    {
      "cell_type": "markdown",
      "source": [
        "The `continue` statement continues with the next iteration of the loop:"
      ],
      "metadata": {
        "id": "0lubWOp3f01k"
      }
    },
    {
      "cell_type": "code",
      "source": [
        "# Finding even and odd numbers in a list\n",
        "for n in range(3, 10):\n",
        "    if n % 2 == 0:\n",
        "        print(f\"{n} is even\")\n",
        "        continue\n",
        "    print(f\"{n} is odd\")\n"
      ],
      "metadata": {
        "id": "Thc9ioeHfz8T",
        "collapsed": true
      },
      "execution_count": null,
      "outputs": []
    },
    {
      "cell_type": "markdown",
      "source": [
        "🚀🔥 In a `for` or `while` loop the `break` statement may be paired with an `else` clause. If the loop finishes **without** executing the break, the `else` clause executes."
      ],
      "metadata": {
        "id": "V7Pf89qJj1b7"
      }
    },
    {
      "cell_type": "code",
      "source": [
        "# Finding prime numbers in a list\n",
        "for n in range(10):\n",
        "    if n < 2:\n",
        "        continue\n",
        "    for x in range(2, n):\n",
        "        if n % x == 0:\n",
        "            print(n, 'equals', x, '*', n//x)\n",
        "            break\n",
        "    else:\n",
        "        # loop fell through without finding a factor\n",
        "        print(n, 'is a prime number')\n"
      ],
      "metadata": {
        "id": "Y9vCiLGPhoi4",
        "collapsed": true
      },
      "execution_count": null,
      "outputs": []
    },
    {
      "cell_type": "markdown",
      "source": [
        "# 4. Defining Functions\n",
        "\n",
        "💡 **Reminder**: Python has a set of built-in functions for performing specific tasks. All Python functions use parentheses to receive the required arguments for execution, following the format `function_name(args)`. You can find all Python built-in functions in [here](https://docs.python.org/3/library/functions.html).\n",
        "\n",
        "In Python, we can create our own functions! The keyword `def` introduces a function definition. It must be followed by the function name and the parenthesized list of formal parameters (arguments):\n",
        "\n",
        "```\n",
        "def function_name(arguments):\n",
        "    \"\"\"\n",
        "    docstring\n",
        "    \"\"\"\n",
        "    body\n",
        "```\n",
        "\n",
        "The first statement of the function body can optionally be a string literal; this string literal is the function's documentation string, or **docstring** (more about docstrings can be found in [here](https://docs.python.org/3/tutorial/controlflow.html#documentation-strings)).\n",
        "\n",
        "For example let's define a function that returns the Fibonacci series less than a given number. For example the follwing is the Fibonacci series less than 10:\n",
        "\n",
        "```\n",
        "0, 1\n",
        "0, 1, 0+1\n",
        "0, 1, 1, 1+1\n",
        "0, 1, 1, 2, 1+2\n",
        "0, 1, 1, 2, 3, 2+3\n",
        "0, 1, 1, 2, 3, 5, 8\n",
        "```"
      ],
      "metadata": {
        "id": "x__U_Rg0hp2v"
      }
    },
    {
      "cell_type": "code",
      "source": [
        "# Write Fibonacci series less than n\n",
        "def fib(n):\n",
        "    \"\"\"\n",
        "    Print a Fibonacci series less than n.\n",
        "    \"\"\"\n",
        "    a, b = 0, 1\n",
        "    while a < n:\n",
        "        print(a, end=' ')\n",
        "        a, b = b, a+b\n",
        "    print()\n",
        "\n",
        "# Now call the function we just defined:\n",
        "fib(2000)\n",
        "\n",
        "# Store the output\n",
        "fib2000 = fib(2000)\n",
        "\n",
        "print(fib2000)\n",
        "# None\n"
      ],
      "metadata": {
        "id": "XZ-rvYrqnj7s",
        "collapsed": true
      },
      "execution_count": null,
      "outputs": []
    },
    {
      "cell_type": "markdown",
      "source": [
        "If a function does not have a `return` statement, it returns `None` by default. So, use `return` when you need a value from the function.\n",
        "\n",
        "Note that a function does not execute any code after a `return` statement. Once `return` is encountered, the function exits immediately.\n",
        "\n",
        "Let's rewrite the function:"
      ],
      "metadata": {
        "id": "hKBepnOCx22s"
      }
    },
    {
      "cell_type": "code",
      "source": [
        "# Return Fibonacci series up to n\n",
        "def fib2(n):\n",
        "    \"\"\"\n",
        "    Return a list containing the Fibonacci series up to n.\n",
        "    \"\"\"\n",
        "    result = []\n",
        "    a, b = 0, 1\n",
        "    while a < n:\n",
        "        result.append(a)\n",
        "        a, b = b, a+b\n",
        "    return result\n",
        "\n",
        "# Now call the function:\n",
        "f100 = fib2(100)\n",
        "f100\n",
        "# [0, 1, 1, 2, 3, 5, 8, 13, 21, 34, 55, 89]\n",
        "\n",
        "# Function type and methods\n",
        "type(fib2)\n",
        "# 'function'\n",
        "\n",
        "fib2.__name__\n",
        "# 'fib2'\n",
        "\n",
        "fib2.__doc__\n",
        "# '\\n    Print a Fibonacci series less than n.\\n    '\n",
        "\n",
        "# We have a seperate type for built-in functions!\n",
        "type(print)\n",
        "# 'builtin_function_or_method'\n"
      ],
      "metadata": {
        "id": "gQcEAGIOxgVd",
        "collapsed": true
      },
      "execution_count": null,
      "outputs": []
    },
    {
      "cell_type": "markdown",
      "source": [
        "---\n",
        "## 📚 **Workbook practice**\n",
        "\n",
        "#### **Task:**  \n",
        "Write a Python function called `filter_even_numbers()` that takes a list of numbers as input and returns a new list containing only the even numbers.  \n",
        "\n",
        "#### **Instructions:**  \n",
        "1. Define a function `filter_even_numbers(numbers)`.  \n",
        "2. Use a loop (`for` or `while`) to iterate through the list.  \n",
        "3. Use an `if` statement to check if each number is even (`number % 2 == 0`).  \n",
        "4. Store even numbers in a new list.  \n",
        "5. Return the filtered list.  \n",
        "6. Test the function with an example list, e.g., `test = [1, 2, 3, 4, 5, 6, 7, 8]`.  \n",
        "\n",
        "#### **Help Code:**\n",
        "```python\n",
        "def filter_even_numbers(numbers):\n",
        "    \"\"\"\n",
        "    Returns a list of even numbers from a list.\n",
        "    \"\"\"\n",
        "    result = ...\n",
        "    for ...:\n",
        "        if ...:\n",
        "            ...\n",
        "    return result\n",
        "```\n",
        "\n",
        "#### **Example Output:**  \n",
        "```python\n",
        "print(filter_even_numbers(test))\n",
        "# Output: [2, 4, 6, 8]\n",
        "```\n"
      ],
      "metadata": {
        "id": "PNzgk5svvNym"
      }
    },
    {
      "cell_type": "markdown",
      "source": [
        "----\n",
        "# ☕ - Break (10 Min)\n",
        "----"
      ],
      "metadata": {
        "id": "1OAQL9PBWWaY"
      }
    },
    {
      "cell_type": "markdown",
      "source": [
        "# 5. Data Structures\n",
        "\n",
        "This chapter describes some things you've learned about already in more detail, and adds some new things as well.\n"
      ],
      "metadata": {
        "id": "QRlp7_foRwS4"
      }
    },
    {
      "cell_type": "markdown",
      "source": [
        "## 5.1 Lists\n",
        "\n",
        "An example that uses most of the list **methods**:"
      ],
      "metadata": {
        "id": "JykxNjsd8d8k"
      }
    },
    {
      "cell_type": "code",
      "source": [
        "fruits = ['orange', 'apple', 'pear', 'banana', 'kiwi', 'apple', 'banana']\n",
        "\n",
        "fruits.count('apple')\n",
        "# 2\n",
        "\n",
        "fruits.count('tangerine')\n",
        "# 0\n",
        "\n",
        "fruits.index('banana')\n",
        "# 3\n",
        "\n",
        "fruits.index('banana', 4)  # Find next banana starting at position 4\n",
        "# 6\n",
        "\n",
        "fruits.reverse()\n",
        "fruits\n",
        "# ['banana', 'apple', 'kiwi', 'banana', 'pear', 'apple', 'orange']\n",
        "\n",
        "fruits.append('grape')\n",
        "fruits\n",
        "# ['banana', 'apple', 'kiwi', 'banana', 'pear', 'apple', 'orange', 'grape']\n",
        "\n",
        "fruits.sort()\n",
        "fruits\n",
        "# ['apple', 'apple', 'banana', 'banana', 'grape', 'kiwi', 'orange', 'pear']\n",
        "\n",
        "fruits.pop()\n",
        "# 'pear'\n",
        "\n",
        "fruits\n",
        "# ['apple', 'apple', 'banana', 'banana', 'grape', 'kiwi', 'orange']\n",
        "\n",
        "fruits.remove('banana')\n",
        "fruits\n",
        "# ['apple', 'apple', 'banana', 'grape', 'kiwi', 'orange']\n"
      ],
      "metadata": {
        "id": "SeDVfXMdSlkK",
        "collapsed": true
      },
      "execution_count": null,
      "outputs": []
    },
    {
      "cell_type": "markdown",
      "source": [
        "Another applicatin of lists is **List Comprehension**. List comprehensions (*listcomp*) provide a concise way to create lists.\n",
        "\n",
        "For example, assume we want to create a list of squares, like:"
      ],
      "metadata": {
        "id": "kDxMVeIpT2tH"
      }
    },
    {
      "cell_type": "code",
      "source": [
        "squares = []\n",
        "for x in range(10):\n",
        "    squares.append(x**2)\n",
        "\n",
        "squares\n",
        "# [0, 1, 4, 9, 16, 25, 36, 49, 64, 81]\n"
      ],
      "metadata": {
        "id": "-znCq9KnT2Xi",
        "collapsed": true
      },
      "execution_count": null,
      "outputs": []
    },
    {
      "cell_type": "markdown",
      "source": [
        "or, equivalently:"
      ],
      "metadata": {
        "id": "cSm-HXW4UffE"
      }
    },
    {
      "cell_type": "code",
      "source": [
        "squares = [x**2 for x in range(10)]\n",
        "squares\n",
        "# [0, 1, 4, 9, 16, 25, 36, 49, 64, 81]\n",
        "\n",
        "# Want to multiply each item of the list by 2:\n",
        "squares * 2 # this will concatinate two lists!\n",
        "# [0, 1, 4, 9, 16, 25, 36, 49, 64, 81, 0, 1, 4, 9, 16, 25, 36, 49, 64, 81]\n",
        "\n",
        "[x * 2 for x in squares]\n",
        "# [0, 2, 8, 18, 32, 50, 72, 98, 128, 162]\n"
      ],
      "metadata": {
        "id": "yeMGMlQQUg2F",
        "collapsed": true
      },
      "execution_count": null,
      "outputs": []
    },
    {
      "cell_type": "markdown",
      "source": [
        "For example, this **listcomp** combines the elements of two lists if they are not equal:"
      ],
      "metadata": {
        "id": "8nvFmtZUUgfO"
      }
    },
    {
      "cell_type": "code",
      "source": [
        "[[x, y] for x in [1,2,3] for y in [3,1,4] if x != y]\n",
        "# [[1, 3], [1, 4], [2, 3], [2, 1], [2, 4], [3, 1], [3, 4]]\n"
      ],
      "metadata": {
        "id": "hxDl9dBnXHvy",
        "collapsed": true
      },
      "execution_count": null,
      "outputs": []
    },
    {
      "cell_type": "markdown",
      "source": [
        "Instead of:"
      ],
      "metadata": {
        "id": "23niiA5TYwxn"
      }
    },
    {
      "cell_type": "code",
      "source": [
        "combs = []\n",
        "for x in [1,2,3]:\n",
        "    for y in [3,1,4]:\n",
        "        if x != y:\n",
        "            combs.append([x, y])\n",
        "\n",
        "combs\n",
        "# [[1, 3], [1, 4], [2, 3], [2, 1], [2, 4], [3, 1], [3, 4]]\n"
      ],
      "metadata": {
        "id": "E01mxvH2ZZ-c",
        "collapsed": true
      },
      "execution_count": null,
      "outputs": []
    },
    {
      "cell_type": "markdown",
      "source": [
        "## 5.2 Tuples\n",
        "\n",
        "A tuple consists of a number of values separated by commas. Though tuples may seem similar to lists, they are often used in different situations and for different purposes.\n",
        "\n",
        "🚀 Tuples are **immutable**, and usually contain a **heterogeneous** sequence of elements that are accessed via unpacking or indexing. Tuples may be input with or without surrounding parentheses. Tuples support indexing and can be concatenated."
      ],
      "metadata": {
        "id": "2ftXnPtkaFQR"
      }
    },
    {
      "cell_type": "code",
      "source": [
        "t = (12345, 54321, 'hello!')\n",
        "type(t)\n",
        "\n",
        "# without the surrounding parentheses\n",
        "t = 12345, 54321, 'hello!' # packing\n",
        "t\n",
        "# (12345, 54321, 'hello!')\n",
        "\n",
        "# Tuples are indexable\n",
        "t[0]\n",
        "# 12345\n",
        "\n",
        "t[1:]\n",
        "# (54321, 'hello!')\n",
        "\n",
        "# Tuples can be concatenated\n",
        "u = 1, 2, 'three'\n",
        "t + u\n",
        "# (12345, 54321, 'hello!', 1, 2, 'three')\n"
      ],
      "metadata": {
        "id": "4LmoSVxDRShF",
        "collapsed": true
      },
      "execution_count": null,
      "outputs": []
    },
    {
      "cell_type": "code",
      "source": [
        "# Sequence unpacking\n",
        "x, y, z = u\n",
        "print(x, y, z)\n",
        "# 1 2 three\n",
        "\n",
        "# You can also use the asterisk (*) to unpack multiple elements into a single list\n",
        "x, *y = u\n",
        "print(x, y)\n",
        "# 1 [2, 'three']\n",
        "\n",
        "# Tuples may be nested:\n",
        "u = (t, (10, 20, 30))\n",
        "u\n",
        "# ((12345, 54321, 'hello!'), (10, 20, 30))\n"
      ],
      "metadata": {
        "id": "TVLxOSVGWobH",
        "collapsed": true
      },
      "execution_count": null,
      "outputs": []
    },
    {
      "cell_type": "code",
      "source": [
        "# Singleton and empty tuples\n",
        "singleton = 'hello',    # <-- note trailing comma\n",
        "singleton\n",
        "# ('hello',)\n",
        "\n",
        "empty = ()\n",
        "empty\n",
        "\n",
        "# Tuples only have two methods:\n",
        "t\n",
        "# (12345, 54321, 'hello!')\n",
        "\n",
        "t.count(12345)\n",
        "t.index('hello!')\n",
        "\n",
        "# The built-in function \"list()\" returns a list of any iterable object\n",
        "list(t)\n",
        "# [12345, 54321, 'hello!']\n"
      ],
      "metadata": {
        "id": "IbqLDaRyW7F7",
        "collapsed": true
      },
      "execution_count": null,
      "outputs": []
    },
    {
      "cell_type": "markdown",
      "source": [
        "Remember the Fibonacci series, where we have two variables, `a` and `b`, and want to update them as `a = b` and `b = a + b`:"
      ],
      "metadata": {
        "id": "_6FCNT3kcaJ9"
      }
    },
    {
      "cell_type": "code",
      "source": [
        "# Withou tuples\n",
        "a = 10\n",
        "b = 20\n",
        "a = b\n",
        "b = a + b\n",
        "print(a, b)\n",
        "# 20 40\n",
        "\n",
        "# With using tuples\n",
        "a = 10\n",
        "b = 20\n",
        "a, b = b, a + b\n",
        "print(a, b)\n",
        "# 20 30\n"
      ],
      "metadata": {
        "id": "ZYWaGJ05Zi0A",
        "collapsed": true
      },
      "execution_count": null,
      "outputs": []
    },
    {
      "cell_type": "markdown",
      "source": [
        "## 5.3 Sets\n",
        "\n",
        "Python also includes a data type for sets. A set is an **unordered** collection with **no duplicate** elements.\n",
        "\n",
        "Basic uses include membership testing and eliminating duplicate entries. Set objects also support mathematical operations like union, intersection, difference, and symmetric difference.\n",
        "\n",
        "🚀 Curly braces or the `set()` function can be used to create sets. Note: to create an empty set you have to use `set()`, not `{}`; the latter creates an empty dictionary, a data structure that we discuss in the next section.\n",
        "\n",
        "Sets are **mutable**, but they are neither subscriptable nor concatenable."
      ],
      "metadata": {
        "id": "irpStm8Te6IV"
      }
    },
    {
      "cell_type": "code",
      "source": [
        "basket = {'apple', 'orange', 'apple', 'pear', 'orange', 'banana'}\n",
        "\n",
        "# Show that duplicates have been removed\n",
        "print(basket)\n",
        "# {'banana', 'apple', 'pear', 'orange'}\n",
        "\n",
        "# Membership testing\n",
        "'orange' in basket\n",
        "# True\n",
        "\n",
        "'crabgrass' in basket\n",
        "# False\n",
        "\n",
        "empty = set()\n",
        "empty\n",
        "\n",
        "# The built-in function \"sorted()\" returns a new list containing all items from the iterable in ascending order.\n",
        "bs_sorted = sorted(basket)\n",
        "bs_sorted\n",
        "# ['apple', 'banana', 'orange', 'pear']\n",
        "\n",
        "set(bs_sorted)\n",
        "# {'apple', 'banana', 'orange', 'pear'}\n"
      ],
      "metadata": {
        "id": "6iJaj2VYgxuX",
        "collapsed": true
      },
      "execution_count": null,
      "outputs": []
    },
    {
      "cell_type": "code",
      "source": [
        "# Demonstrate set operations on unique letters from two words\n",
        "a = set('abracadabra')\n",
        "b = set('alacazam')\n",
        "\n",
        "# Unique letters in a\n",
        "a\n",
        "\n",
        "# Unique letters in b\n",
        "b\n",
        "\n",
        "# Letters in a but not in b\n",
        "a - b\n",
        "\n",
        "# Letters in a or b or both\n",
        "a | b\n",
        "\n",
        "# Letters in both a and b\n",
        "a & b\n",
        "\n",
        "# Letters in a or b but not both\n",
        "a ^ b\n"
      ],
      "metadata": {
        "id": "IcR_QWBsh8vu",
        "collapsed": true
      },
      "execution_count": null,
      "outputs": []
    },
    {
      "cell_type": "markdown",
      "source": [
        "Similarly to list comprehensions, set comprehensions are also supported:"
      ],
      "metadata": {
        "id": "Gvq4hJR8iJ_0"
      }
    },
    {
      "cell_type": "code",
      "source": [
        "a = {x for x in 'abracadabra' if x not in 'abc'}\n",
        "a\n",
        "# {'d', 'r'}\n"
      ],
      "metadata": {
        "id": "YQs-DpFoiN_F",
        "collapsed": true
      },
      "execution_count": null,
      "outputs": []
    },
    {
      "cell_type": "markdown",
      "source": [
        "Sets have several methods such as:"
      ],
      "metadata": {
        "id": "1-roJeBEmHzC"
      }
    },
    {
      "cell_type": "code",
      "source": [
        "a = {'d', 'r'}\n",
        "b = {'r', 'c'}\n",
        "id1 = id(a)\n",
        "\n",
        "a.intersection(b)\n",
        "# {'r'}\n",
        "\n",
        "a.difference(b)\n",
        "# {'d'}\n",
        "\n",
        "a.issubset(b)\n",
        "# False\n",
        "\n",
        "a.union(b)\n",
        "# {'c', 'd', 'r'}\n",
        "\n",
        "a.add('new')\n",
        "a\n",
        "# {'d', 'new', 'r'}\n",
        "\n",
        "a.remove('d')\n",
        "a\n",
        "# {'new', 'r'}\n",
        "\n",
        "id2 = id(a)\n",
        "\n",
        "# Sets are mutable\n",
        "id1 == id2\n",
        "# True\n"
      ],
      "metadata": {
        "id": "6WkRwPavms90",
        "collapsed": true
      },
      "execution_count": null,
      "outputs": []
    },
    {
      "cell_type": "markdown",
      "source": [
        "## 5.4 Dictionaries\n",
        "\n",
        "Dictionaries are a data structure consisting of **keys** and **values**. Unlike lists and tuples that are indexed by numerical positions, dictionaries are indexed by unique and **immutable** keys (i.e., strings, numbers, or tuples). Meanwhile, dictionary values can be of any type (mutable or immutable) and may be duplicated.\n",
        "\n",
        "The primary operations on a dictionary involve storing values with specific keys and retrieving values using those keys."
      ],
      "metadata": {
        "id": "jKSBMZ66j74r"
      }
    },
    {
      "cell_type": "code",
      "source": [
        "tel = {'jack': 4098, 'sam': 4139}\n",
        "tel\n",
        "\n",
        "# Dicts are subscriptable with keys\n",
        "tel['jack']\n",
        "# 4098\n",
        "\n",
        "# We can assign a key and a value\n",
        "tel['guido'] = 4127\n",
        "tel\n",
        "# {'jack': 4098, 'sam': 4139, 'guido': 4127}\n",
        "\n",
        "# We can modify the value for an existing key\n",
        "tel['sam'] = 9341\n",
        "tel\n",
        "# {'jack': 4098, 'sam': 9341, 'guido': 4127}\n",
        "\n",
        "# List of keys\n",
        "list(tel)\n",
        "# ['jack', 'sam', 'guido']\n",
        "\n",
        "sorted(tel)\n",
        "# ['guido', 'jack', 'sam']\n",
        "\n",
        "# Membership testing\n",
        "'guido' in tel\n",
        "# True\n",
        "\n",
        "'jack' not in tel\n",
        "# False\n",
        "\n",
        "empty = {}\n",
        "type(empty)\n",
        "empty\n"
      ],
      "metadata": {
        "id": "8kxi3RpIIGtA",
        "collapsed": true
      },
      "execution_count": null,
      "outputs": []
    },
    {
      "cell_type": "code",
      "source": [
        "# The \"dict()\"\" function builds dictionaries directly from sequences of key-value pairs:\n",
        "ls_tp = [('sam', 4139), ('guido', 4127), ('jack', 4098)]\n",
        "dict(ls_tp)\n",
        "# {'sam': 4139, 'guido': 4127, 'jack': 4098}\n"
      ],
      "metadata": {
        "id": "_xLkOQHSb9m8",
        "collapsed": true
      },
      "execution_count": null,
      "outputs": []
    },
    {
      "cell_type": "code",
      "source": [
        "# Dict comprehensions can be used to create dictionaries from arbitrary key and value expressions:\n",
        "{str(x): x**2 for x in range(1, 10)}\n",
        "# {'1': 1, '2': 4, '3': 9, '4': 16, '5': 25, '6': 36, '7': 49, '8': 64, '9': 81}\n",
        "\n",
        "# Applying \"if\":\n",
        "{str(x): x**2 for x in range(10) if x != 0}\n",
        "# {'1': 1, '2': 4, '3': 9, '4': 16, '5': 25, '6': 36, '7': 49, '8': 64, '9': 81}\n"
      ],
      "metadata": {
        "id": "cz45HWCMc5Qw",
        "collapsed": true
      },
      "execution_count": null,
      "outputs": []
    },
    {
      "cell_type": "code",
      "source": [
        "# Looping over dicts\n",
        "knights = {'gallahad': 'the pure', 'robin': 'the brave'}\n",
        "\n",
        "for i in knights:\n",
        "    print(i, knights[i])\n",
        "# gallahad the pure\n",
        "# robin the brave\n",
        "\n",
        "# The \".items()\" method returns a tuple of (key, value) for each pair\n",
        "for k, v in knights.items():\n",
        "    print(k, v)\n",
        "# gallahad the pure\n",
        "# robin the brave\n"
      ],
      "metadata": {
        "id": "QofqTwpUe8wr",
        "collapsed": true
      },
      "execution_count": null,
      "outputs": []
    },
    {
      "cell_type": "code",
      "source": [
        "# The built-in function \"zip()\" yields tuples until an input is exhausted.\n",
        "zp_two = list(zip('abcdef', range(3)))\n",
        "# [('a', 0), ('b', 1), ('c', 2)]\n",
        "\n",
        "dict(zp_two)\n",
        "# {'a': 0, 'b': 1, 'c': 2}\n"
      ],
      "metadata": {
        "id": "aMwQtNOUf-Yx",
        "collapsed": true
      },
      "execution_count": null,
      "outputs": []
    },
    {
      "cell_type": "code",
      "source": [
        "# Another example\n",
        "questions = ['name', 'quest', 'favorite color']\n",
        "answers = ['lancelot', 'the holy grail', 'blue']\n",
        "qa_dict = dict(zip(questions, answers))\n",
        "qa_dict\n",
        "# {'name': 'lancelot', 'quest': 'the holy grail', 'favorite color': 'blue'}\n",
        "\n",
        "for q, a in qa_dict.items():\n",
        "    print(f'What is your {q}?  It is {a}.')\n",
        "#What is your name?  It is lancelot.\n",
        "#What is your quest?  It is the holy grail.\n",
        "#What is your favorite color?  It is blue.\n"
      ],
      "metadata": {
        "id": "2Gzzym-Hgr9s",
        "collapsed": true
      },
      "execution_count": null,
      "outputs": []
    },
    {
      "cell_type": "code",
      "source": [
        "# Some of the methods\n",
        "list(qa_dict.keys())\n",
        "# 'name', 'quest', 'favorite color']\n",
        "\n",
        "list(qa_dict.values())\n",
        "# ['lancelot', 'the holy grail', 'blue']\n",
        "\n",
        "list(qa_dict.items())\n",
        "# [('name', 'lancelot'), ('quest', 'the holy grail'), ('favorite color', 'blue')]\n"
      ],
      "metadata": {
        "id": "DFSSJ0I6i9mI",
        "collapsed": true
      },
      "execution_count": null,
      "outputs": []
    },
    {
      "cell_type": "markdown",
      "source": [
        "---\n",
        "## 📚 **Workbook practice**\n",
        "\n",
        "#### **Task:**  \n",
        "Use **lists, sets, dictionaries, and the `zip()` function** to store student grades, identify unique grades, and find the highest-scoring student.  \n",
        "\n",
        "#### **Instructions:**  \n",
        "1. Create two lists:  \n",
        "   - `students = [\"Alice\", \"Bob\", \"Charlie\", \"David\", \"Eve\"]`  \n",
        "   - `grades = [85, 90, 78, 92, 90]`  \n",
        "2. Find unique grades `unique_grades`.\n",
        "3. Find the highest grade `highest_grade`.\n",
        "4. Create a dictionary `student_grades`.  \n",
        "5. Find the highest grade and the student(s) who achieved it.  \n",
        "6. Print the dictionary, unique grades, and highest-scoring student(s).  \n",
        "\n",
        "#### **Help Code:**  \n",
        "```python\n",
        "# Define lists\n",
        "students = [\"Alice\", \"Bob\", \"Charlie\", \"David\", \"Eve\"]\n",
        "grades = [85, 90, 78, 92, 90]\n",
        "\n",
        "# Remove duplicates from grades list\n",
        "unique_grades = ...\n",
        "\n",
        "# Find the highest grade using \"max()\" funtion\n",
        "highest_grade = ...\n",
        "\n",
        "# Create the dictionary\n",
        "student_grades = ...\n",
        "\n",
        "# Find list of student(s) who got the highest grade\n",
        "top_students = ...\n",
        "\n",
        "# Print results\n",
        "print(\"Student Grades Dictionary:\", student_grades)\n",
        "print(\"Unique Grades Set:\", unique_grades)\n",
        "print(\"Highest Grade:\", highest_grade)\n",
        "print(\"Top Student(s):\", top_students)\n",
        "```\n",
        "\n",
        "#### **Expected Output:**  \n",
        "```\n",
        "Student Grades Dictionary: {'Alice': 85, 'Bob': 90, 'Charlie': 78, 'David': 92, 'Eve': 90}  \n",
        "Unique Grades Set: {85, 90, 78, 92}  \n",
        "Highest Grade: 92  \n",
        "Top Student(s): ['David']\n",
        "```\n",
        "---"
      ],
      "metadata": {
        "id": "f_cwKtpKkfX6"
      }
    },
    {
      "cell_type": "markdown",
      "source": [
        "# 6. Modules\n",
        "If you quit from the Python interpreter and enter it again, the definitions you have made (functions and variables) are lost. Therefore, if you want to write a somewhat longer program, you are better off using a text editor (like IDEs such as VS Code or terminal text editors like Emacs, Nano, or Vim) to prepare the input for the interpreter and running it with that file as input instead. This is known as creating a *script*.\n",
        "\n",
        "As your program gets longer, you may want to split it into several files for easier maintenance. You may also want to use a handy function that you've written in several programs without copying its definition into each program.\n",
        "\n",
        "To support this, Python has a way to put definitions in a file and use them in a script or in an interactive instance of the interpreter. Such a file is called a **module**; definitions from a module can be imported into other modules or into the main module.\n",
        "\n",
        "A module is a file containing Python definitions and statements. The file name is the module name with the suffix `.py` appended.\n",
        "\n",
        "For instance, use your favorite text editor to create a file called `fibonacci.py` in the current directory with the following contents:\n",
        "\n",
        "```python\n",
        "# Fibonacci numbers module\n",
        "\n",
        "def fib(n):    # write Fibonacci series up to n\n",
        "    \"\"\"\n",
        "    Print a Fibonacci series less than n.\n",
        "    \"\"\"\n",
        "    a, b = 0, 1\n",
        "    while a < n:\n",
        "        print(a, end=' ')\n",
        "        a, b = b, a+b\n",
        "    print()\n",
        "\n",
        "def fib2(n):   # return Fibonacci series up to n\n",
        "    \"\"\"\n",
        "    Return a list containing the Fibonacci series up to n.\n",
        "    \"\"\"\n",
        "    result = []\n",
        "    a, b = 0, 1\n",
        "    while a < n:\n",
        "        result.append(a)\n",
        "        a, b = b, a+b\n",
        "    return result\n",
        "\n",
        "# Executing modules as scripts\n",
        "if __name__ == \"__main__\":\n",
        "    # This only runs if we run the script\n",
        "    import sys\n",
        "    fib(int(sys.argv[1]))\n",
        "```"
      ],
      "metadata": {
        "id": "87yLHnu6rip_"
      }
    },
    {
      "cell_type": "markdown",
      "source": [
        "Now enter the Python interpreter and import this module with the following command:"
      ],
      "metadata": {
        "id": "T9ZxOfZNxWxt"
      }
    },
    {
      "cell_type": "code",
      "source": [
        "import fibonacci as fibo\n",
        "\n",
        "fibo.fib(100)\n",
        "# 0 1 1 2 3 5 8 13 21 34 55 89\n",
        "\n",
        "fibo.fib2(100)\n",
        "# [0, 1, 1, 2, 3, 5, 8, 13, 21, 34, 55, 89]\n",
        "\n",
        "\n",
        "# Module type and methods\n",
        "type(fibo)\n",
        "# 'module'\n",
        "\n",
        "fibo.__name__\n",
        "# 'fibonacci'\n"
      ],
      "metadata": {
        "id": "stnocQ8NxYEk",
        "collapsed": true
      },
      "execution_count": null,
      "outputs": []
    },
    {
      "cell_type": "code",
      "source": [
        "# We can import a certain function from a module\n",
        "from fibonacci import fib2\n",
        "\n",
        "fib2(100)\n",
        "\n",
        "# Or we can also import all (*)\n",
        "from fibonacci import *\n",
        "\n",
        "fib(100)\n"
      ],
      "metadata": {
        "id": "ddGDB69d0mMC",
        "collapsed": true
      },
      "execution_count": null,
      "outputs": []
    },
    {
      "cell_type": "markdown",
      "source": [
        "You can run the script via command line as well, because the code that parses the command line only runs if the module that is executed as the **“main”** file:"
      ],
      "metadata": {
        "id": "yOmUWTnBx5rK"
      }
    },
    {
      "cell_type": "code",
      "source": [
        "!python fibonacci.py 100"
      ],
      "metadata": {
        "id": "Z7rbp06Ixxnc",
        "collapsed": true
      },
      "execution_count": null,
      "outputs": []
    },
    {
      "cell_type": "markdown",
      "source": [
        "🔥 In Jupyter Notebook, you can execute terminal commands by adding `!` to your command.\n",
        "\n",
        "🎉 🚀 Awesome! We built and run an application successfully!"
      ],
      "metadata": {
        "id": "ISEDrbs51smw"
      }
    },
    {
      "cell_type": "markdown",
      "source": [
        "## 6.1  Standard Modules\n",
        "\n",
        "Python comes with a comprehensive library of **standard modules** that provide built-in functionality for various tasks, such as file handling, mathematical operations, data manipulation, and system interactions. These modules can be imported and used directly without requiring additional installation. You can explore the full list of standard modules in the official Python documentation [here](https://docs.python.org/3/library/index.html). Additionally, I have compiled a summary of some commonly used modules with explanations and examples, which you can find [here](https://ashki23.github.io/python-lib.html).\n"
      ],
      "metadata": {
        "id": "kFOMRO058uUy"
      }
    },
    {
      "cell_type": "markdown",
      "source": [
        "## 6.2 Packages\n",
        "In addition to the standard library, Python allows us to extend its functionality by installing numerous third-party packages.\n",
        "\n",
        "These packages enhance Python's capabilities across various domains, from data analysis to machine learning and visualization. Some of the most widely used Python packages include:  \n",
        "\n",
        "- **Pandas**: A powerful library for working with tabular data (DataFrame), commonly used for handling data from spreadsheets or databases.  \n",
        "- **NumPy**: A fundamental package for numerical computing, providing support for N-dimensional arrays and linear algebra operations.  \n",
        "- **Scikit-Learn**: A robust machine learning library offering a wide range of tools for classification, regression, clustering, and more.  \n",
        "- **Matplotlib**: A versatile library for creating high-quality 2D plots and visualizations.  \n",
        "- **TensorFlow**: An advanced library for fast numerical computing, widely used for deep learning and artificial intelligence applications.  \n",
        "\n",
        "🔥🔥 **Note: Since these are not part of the standard library, they need to be installed using a package manager like `pip`. When your project requires external packages, it’s best practice to use a [virtual environment](https://github.com/ashki23/python-workshop-basics#packages) or a container to manage dependencies efficiently.**\n",
        "\n",
        "For example, to install `cartopy` package, we can use the following `pip install` command in the terminal (since Colab provides a Virtual Machine (VM) for running our codes, there's no need to create a virtual environment):\n",
        "\n",
        "```bash\n",
        "!pip install cartopy\n",
        "```\n",
        "\n",
        "🚀 In Jupyter Notebook, you can execute terminal commands by adding `!` to your command."
      ],
      "metadata": {
        "id": "QyvZBzKi4qmM"
      }
    },
    {
      "cell_type": "markdown",
      "source": [
        "# 7. Input and Output\n"
      ],
      "metadata": {
        "id": "_YL9p1mk81y7"
      }
    },
    {
      "cell_type": "markdown",
      "source": [
        "## 7.1 Formatted String\n",
        "\n",
        "Formatted string literals (also called `f-strings` for short) let you include the value of Python expressions inside a string by prefixing the string with `f` or `F` and writing expressions as `{expression}`.\n"
      ],
      "metadata": {
        "id": "zUgjCF79-k_c"
      }
    },
    {
      "cell_type": "code",
      "source": [
        "import math\n",
        "\n",
        "fstr = f'The value of pi is approximately {round(math.pi, 2)}.'\n",
        "print(fstr)\n",
        "# 'The value of pi is approximately 3.14.\n"
      ],
      "metadata": {
        "id": "nhQcDqJY_VTz",
        "collapsed": true
      },
      "execution_count": null,
      "outputs": []
    },
    {
      "cell_type": "markdown",
      "source": [
        "## 7.2 Reading and Writing\n",
        "\n",
        "First, let's write a text output from a list of strings:"
      ],
      "metadata": {
        "id": "Rr8qGpQh_UoI"
      }
    },
    {
      "cell_type": "code",
      "source": [
        "f = ['This is the first line of the file.',\n",
        "     'Second line of the file',\n",
        "     'Third line of the file']\n",
        "\n",
        "for line in f:\n",
        "    print(line)"
      ],
      "metadata": {
        "id": "taQvhO5FA4Ek",
        "collapsed": true
      },
      "execution_count": null,
      "outputs": []
    },
    {
      "cell_type": "code",
      "source": [
        "with open('output.txt', 'w') as file:\n",
        "    for line in f:\n",
        "        file.write(line + '\\n')  # Adding newline after each line\n"
      ],
      "metadata": {
        "id": "79XNxsK0BJCH",
        "collapsed": true
      },
      "execution_count": null,
      "outputs": []
    },
    {
      "cell_type": "markdown",
      "source": [
        "The above code just created a text file named `output.txt` in the current directory.\n",
        "\n",
        "Now, let's read `output.txt`:"
      ],
      "metadata": {
        "id": "kifE0ctECXqF"
      }
    },
    {
      "cell_type": "code",
      "source": [
        "with open('output.txt', 'r') as file:\n",
        "    #type(file)\n",
        "    print(file.read())\n"
      ],
      "metadata": {
        "id": "CAmgPnaVCp6w",
        "collapsed": true
      },
      "execution_count": null,
      "outputs": []
    },
    {
      "cell_type": "code",
      "source": [
        "# We can use \".readlines()\" method to read the file and store it in a list\n",
        "with open('output.txt', 'r') as file:\n",
        "    f_read = file.readlines()\n",
        "\n",
        "f_read\n",
        "\n",
        "# We can use \".strip()\" method to remove the newline ending (\\n)\n",
        "f_read_strip = [x.strip() for x in f_read]\n",
        "f_read_strip"
      ],
      "metadata": {
        "id": "zFqBhFEsIVRo",
        "collapsed": true
      },
      "execution_count": null,
      "outputs": []
    },
    {
      "cell_type": "code",
      "source": [
        "# The TextIO object can is iterable so we can use listcomp too\n",
        "with open('output.txt', 'r') as file:\n",
        "    f_read = [line.strip() for line in file]\n",
        "\n",
        "f_read_strip == f_read == f\n",
        "f_read"
      ],
      "metadata": {
        "id": "uH59pX-fJxlc",
        "collapsed": true
      },
      "execution_count": null,
      "outputs": []
    },
    {
      "cell_type": "markdown",
      "source": [
        "🚀 Python provides built-in libraries for handling common data formats such as CSV, JSON, and SQL. The `csv` module allows reading and writing CSV files, the `json` module handles JSON data, and the `sqlite3` module provides an interface for working with SQL databases. However, for more specialized data formats like Excel, Parquet, or HDF5, you may need to install additional packages such as `pandas`, `openpyxl`, `pyarrow`, or `h5py`. These libraries extend Python’s capabilities, enabling seamless data processing across various formats."
      ],
      "metadata": {
        "id": "H2JxafLqFdeI"
      }
    },
    {
      "cell_type": "markdown",
      "source": [
        "---\n",
        "## 📚 **Workbook practice**\n",
        "\n",
        "#### **Task:**  \n",
        "Write a Python script that defines a function to create a dictionary from two lists, and then import and use that function.\n",
        "\n",
        "#### **Instructions:**\n",
        "\n",
        "1. **Create a Python module** (`mymodule.py`) that contains a function:  \n",
        "   - The function should take **two lists** as arguments:  \n",
        "     - One list for **keys** (e.g., `[\"name\", \"age\", \"city\"]`)  \n",
        "     - One list for **values** (e.g., `[\"Alice\", 25, \"New York\"]`)  \n",
        "   - The function should return a **dictionary** by pairing each key with its corresponding value.  \n",
        "   - If the two lists have **different lengths**, return an error message like: `\"Error: Lists must have the same length.\"`  \n",
        "\n",
        "2. **Import the module**:  \n",
        "   - Import the function from `mymodule.py`.  \n",
        "   - Define two sample lists of **equal length**.  \n",
        "   - Call the function and print the generated dictionary.  \n",
        "\n",
        "#### **Hints:**  \n",
        "💡 Use the **`zip()` function** to pair the two lists into key-value pairs.  \n",
        "💡 Use the **`dict()` function** to convert paired values into a dictionary.  \n",
        "💡 Use **conditional checks** to ensure both lists are of the same length.  \n",
        "💡 Import the module using **`import module_name`**.\n",
        "\n",
        "#### **Expected Output Example:**  \n",
        "```\n",
        "Generated Dictionary: {'name': 'Alice', 'age': 25, 'city': 'New York'}\n",
        "```\n",
        "\n",
        "---\n"
      ],
      "metadata": {
        "id": "pT9JrpNXUBut"
      }
    }
  ]
}